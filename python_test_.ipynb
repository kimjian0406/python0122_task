{
  "nbformat": 4,
  "nbformat_minor": 0,
  "metadata": {
    "colab": {
      "provenance": [],
      "authorship_tag": "ABX9TyPNa++jqyvDp4a+8Cv9odkK"
    },
    "kernelspec": {
      "name": "python3",
      "display_name": "Python 3"
    },
    "language_info": {
      "name": "python"
    }
  },
  "cells": [
    {
      "cell_type": "markdown",
      "source": [
        "1.배열 순회하기"
      ],
      "metadata": {
        "id": "o2v7dTE85iew"
      }
    },
    {
      "cell_type": "code",
      "source": [
        "arr = [1, 2, 3, 4, 5]\n",
        "for num in arr:\n",
        "    print(num)\n"
      ],
      "metadata": {
        "colab": {
          "base_uri": "https://localhost:8080/"
        },
        "id": "VH6geA0D5k6u",
        "outputId": "c6fc35cf-e259-4cfd-a43d-ef19796d3f8f"
      },
      "execution_count": 1,
      "outputs": [
        {
          "output_type": "stream",
          "name": "stdout",
          "text": [
            "1\n",
            "2\n",
            "3\n",
            "4\n",
            "5\n"
          ]
        }
      ]
    },
    {
      "cell_type": "markdown",
      "source": [
        "(b) 짝수/홀수 번째만 출력"
      ],
      "metadata": {
        "id": "UNcOv6t45oQd"
      }
    },
    {
      "cell_type": "markdown",
      "source": [
        "2. enumerate\n",
        "a) 배열의 내용 변경 (*2)"
      ],
      "metadata": {
        "id": "zKZFThVY5tq3"
      }
    },
    {
      "cell_type": "code",
      "source": [
        "arr = [1, 2, 3, 4, 5]\n",
        "\n",
        "for idx, value in enumerate(arr):\n",
        "    arr[idx] = value * 2  # 현재 위치 값을 2배로 변경\n",
        "\n",
        "print(\"변경된 배열:\", arr)\n"
      ],
      "metadata": {
        "id": "xPBNTFgF6MJT"
      },
      "execution_count": null,
      "outputs": []
    },
    {
      "cell_type": "markdown",
      "source": [
        "3. map\n",
        "배열의 각 원소에 연산 적용"
      ],
      "metadata": {
        "id": "cYpUd74z6Q4u"
      }
    },
    {
      "cell_type": "code",
      "source": [
        "arr = [1, 2, 3, 4, 5]\n",
        "doubled = list(map(lambda x: x * 2, arr))  # 배열의 모든 값을 2배로\n",
        "print(\"변경된 배열 (map 사용):\", doubled)\n"
      ],
      "metadata": {
        "id": "AbOcnfuH6RcB"
      },
      "execution_count": null,
      "outputs": []
    },
    {
      "cell_type": "markdown",
      "source": [
        "4. 내용 생성하기\n",
        "(a) 0부터 9까지 숫자 리스트 생성"
      ],
      "metadata": {
        "id": "sDxlb1Yp6VuI"
      }
    },
    {
      "cell_type": "code",
      "source": [
        "generated_list = [i for i in range(10)]\n",
        "print(\"생성된 리스트:\", generated_list)\n"
      ],
      "metadata": {
        "id": "B9d2fbxv6XrA"
      },
      "execution_count": null,
      "outputs": []
    },
    {
      "cell_type": "markdown",
      "source": [
        "(b) 5의 배수 리스트 생성"
      ],
      "metadata": {
        "id": "hXZXd7_q6aaP"
      }
    },
    {
      "cell_type": "code",
      "source": [
        "n = 10  # 생성할 횟수\n",
        "repeated_list = [i for i in range(n)]\n",
        "print(f\"{n}번 생성된 리스트:\", repeated_list)\n"
      ],
      "metadata": {
        "id": "sdEfzCaH6bXv"
      },
      "execution_count": null,
      "outputs": []
    },
    {
      "cell_type": "markdown",
      "source": [
        "(b) 사용자에게 입력받아 리스트 생성"
      ],
      "metadata": {
        "id": "_YHlzDgL6fho"
      }
    },
    {
      "cell_type": "code",
      "source": [
        "n = int(input(\"생성할 횟수를 입력하세요: \"))\n",
        "user_generated_list = [i for i in range(n)]\n",
        "print(f\"{n}번 생성된 리스트:\", user_generated_list)\n"
      ],
      "metadata": {
        "id": "sb3ezpAL6gGF"
      },
      "execution_count": null,
      "outputs": []
    },
    {
      "cell_type": "markdown",
      "source": [
        "6. 정해진 횟수\n",
        "예: 3번만 반복 출력"
      ],
      "metadata": {
        "id": "cWq8xy6N6iRU"
      }
    },
    {
      "cell_type": "code",
      "source": [
        "for i in range(3):\n",
        "    print(f\"반복 {i + 1}\")\n"
      ],
      "metadata": {
        "id": "OgBcKH8I6lVO"
      },
      "execution_count": null,
      "outputs": []
    },
    {
      "cell_type": "code",
      "source": [
        "repeat = int(input(\"몇 번 반복할까요? \"))\n",
        "for i in range(repeat):\n",
        "    print(f\"{i + 1}번째 반복입니다.\")\n"
      ],
      "metadata": {
        "id": "JB4Y_Hr66nNJ"
      },
      "execution_count": null,
      "outputs": []
    }
  ]
}