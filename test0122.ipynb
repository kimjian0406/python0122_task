{
  "nbformat": 4,
  "nbformat_minor": 0,
  "metadata": {
    "colab": {
      "provenance": [],
      "authorship_tag": "ABX9TyMpirPA7e+TcsuEkMDUOeOw"
    },
    "kernelspec": {
      "name": "python3",
      "display_name": "Python 3"
    },
    "language_info": {
      "name": "python"
    }
  },
  "cells": [
    {
      "cell_type": "markdown",
      "source": [
        "제가 좋아하는 배우로 파이썬 IF문과 for문으로 작성해보겠습니다\n",
        "\n",
        "첫번째로는 if문입니다"
      ],
      "metadata": {
        "id": "wxQIBMxMB9K7"
      }
    },
    {
      "cell_type": "code",
      "source": [
        "# 조우진 배우가 출연한 영화 리스트\n",
        "movies = [\n",
        "    \"내부자들\",\n",
        "    \"더 킹\",\n",
        "    \"국가부도의 날\",\n",
        "    \"서복\",\n",
        "    \"킹메이커\",\n",
        "    \"외계+인 1부\",\n",
        "    \"사냥의 시간\"\n",
        "]\n",
        "\n",
        "# 사용자가 입력한 배우 이름 확인\n",
        "actor_name = input(\"배우 이름을 입력하세요: \")\n",
        "\n",
        "if actor_name == \"조우진\":\n",
        "    print(f\"{actor_name} 배우가 출연한 영화는 다음과 같습니다:\")\n",
        "    for movie in movies:\n",
        "        print(f\"- {movie}\")\n",
        "else:\n",
        "    print(f\"{actor_name} 배우의 영화 정보를 찾을 수 없습니다.\")\n"
      ],
      "metadata": {
        "colab": {
          "base_uri": "https://localhost:8080/"
        },
        "id": "h73ACMLgCG6G",
        "outputId": "7c2d3cc0-da3f-4c01-e686-7551fbf80456"
      },
      "execution_count": 1,
      "outputs": [
        {
          "output_type": "stream",
          "name": "stdout",
          "text": [
            "배우 이름을 입력하세요: 조우진\n",
            "조우진 배우가 출연한 영화는 다음과 같습니다:\n",
            "- 내부자들\n",
            "- 더 킹\n",
            "- 국가부도의 날\n",
            "- 서복\n",
            "- 킹메이커\n",
            "- 외계+인 1부\n",
            "- 사냥의 시간\n"
          ]
        }
      ]
    },
    {
      "cell_type": "markdown",
      "source": [
        "두번째 for문입니다"
      ],
      "metadata": {
        "id": "O_0AWuCDC0y7"
      }
    },
    {
      "cell_type": "code",
      "source": [
        "# 조우진 배우가 출연한 영화 리스트\n",
        "movies = [\n",
        "    \"내부자들\",\n",
        "    \"더 킹\",\n",
        "    \"국가부도의 날\",\n",
        "    \"서복\",\n",
        "    \"킹메이커\",\n",
        "    \"외계+인 1부\",\n",
        "    \"사냥의 시간\"\n",
        "]\n",
        "\n",
        "# 배우 이름을 입력받기\n",
        "actor_name = input(\"배우 이름을 입력하세요: \")\n",
        "\n",
        "# for문을 사용하여 조우진 배우의 영화를 출력\n",
        "if actor_name == \"조우진\":\n",
        "    print(f\"{actor_name} 배우가 출연한 영화는 다음과 같습니다:\")\n",
        "    for i in range(len(movies)):  # 영화 리스트를 순회\n",
        "        print(f\"{i + 1}. {movies[i]}\")\n",
        "else:\n",
        "    print(f\"{actor_name} 배우의 영화 정보를 찾을 수 없습니다.\")\n"
      ],
      "metadata": {
        "colab": {
          "base_uri": "https://localhost:8080/"
        },
        "id": "-flEpBEkC3p1",
        "outputId": "0552692c-fb48-4b98-a5f4-6ccc49d43c20"
      },
      "execution_count": 2,
      "outputs": [
        {
          "output_type": "stream",
          "name": "stdout",
          "text": [
            "배우 이름을 입력하세요: 조우진\n",
            "조우진 배우가 출연한 영화는 다음과 같습니다:\n",
            "1. 내부자들\n",
            "2. 더 킹\n",
            "3. 국가부도의 날\n",
            "4. 서복\n",
            "5. 킹메이커\n",
            "6. 외계+인 1부\n",
            "7. 사냥의 시간\n"
          ]
        }
      ]
    }
  ]
}